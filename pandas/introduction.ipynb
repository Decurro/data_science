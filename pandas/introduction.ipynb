{
 "cells": [
  {
   "cell_type": "markdown",
   "metadata": {},
   "source": [
    "# Задание"
   ]
  },
  {
   "cell_type": "code",
   "execution_count": 2,
   "metadata": {
    "ExecuteTime": {
     "start_time": "2023-04-02T16:23:52.389124Z",
     "end_time": "2023-04-02T16:23:53.656451Z"
    }
   },
   "outputs": [
    {
     "name": "stderr",
     "output_type": "stream",
     "text": [
      "/tmp/ipykernel_67555/7735099.py:2: DtypeWarning: Columns (0,208,225,255,257,260,270,271,277) have mixed types. Specify dtype option on import or set low_memory=False.\n",
      "  data = pd.read_csv('./datasets/kaggle_survey_2022_responses.csv')\n"
     ]
    }
   ],
   "source": [
    "import pandas as pd\n",
    "data = pd.read_csv('./datasets/kaggle_survey_2022_responses.csv')"
   ]
  },
  {
   "cell_type": "markdown",
   "metadata": {},
   "source": [
    "## Задание 1"
   ]
  },
  {
   "cell_type": "markdown",
   "metadata": {},
   "source": [
    "Узнай самый часто встречаемый возраст респондентов"
   ]
  },
  {
   "cell_type": "code",
   "execution_count": 24,
   "metadata": {},
   "outputs": [
    {
     "data": {
      "text/plain": "18-21    4559\nName: Q2, dtype: int64"
     },
     "execution_count": 24,
     "metadata": {},
     "output_type": "execute_result"
    }
   ],
   "source": [
    "questions = data.iloc[0]\n",
    "data.drop(0, inplace = True) # Удаление вопросиков\n",
    "data['Q2'].value_counts().head(1) # value_counts по умолчанию распологает в порядке убывания => первый будет самым часто встречающимся"
   ]
  },
  {
   "cell_type": "markdown",
   "metadata": {},
   "source": [
    "## Задание 2"
   ]
  },
  {
   "cell_type": "markdown",
   "metadata": {},
   "source": [
    "Посчитай долю женщин среди русских участником опроса, которые уже не студенты. Результат округли до 2х цифры после запятой"
   ]
  },
  {
   "cell_type": "code",
   "execution_count": 32,
   "metadata": {},
   "outputs": [
    {
     "data": {
      "text/plain": "324"
     },
     "execution_count": 32,
     "metadata": {},
     "output_type": "execute_result"
    }
   ],
   "source": [
    "(data['Q4'].str.contains('Russia')).sum() #Общее количество русских"
   ]
  },
  {
   "cell_type": "code",
   "execution_count": 51,
   "outputs": [],
   "source": [
    "all_rus_no_student = float(((data['Q5'].str.contains('No'))&(data['Q4'].str.contains('Russia'))).sum()) # Русских не студентов)"
   ],
   "metadata": {
    "collapsed": false
   }
  },
  {
   "cell_type": "code",
   "execution_count": 52,
   "outputs": [],
   "source": [
    "woman_rus_no_student = float(((data['Q5'].str.contains('No'))&(data['Q4'].str.contains('Russia'))&(data['Q3'].str.contains('Woman'))).sum()) # Русских не студентов женщин"
   ],
   "metadata": {
    "collapsed": false
   }
  },
  {
   "cell_type": "code",
   "execution_count": 56,
   "outputs": [
    {
     "name": "stdout",
     "output_type": "stream",
     "text": [
      "Доля женщин среди русских не студентов:  0.24\n"
     ]
    }
   ],
   "source": [
    "print(\"Доля женщин среди русских не студентов: \",round(woman_rus_no_student/all_rus_no_student, 2)) #Ответ"
   ],
   "metadata": {
    "collapsed": false
   }
  },
  {
   "cell_type": "markdown",
   "metadata": {},
   "source": [
    "## Задание 3"
   ]
  },
  {
   "cell_type": "markdown",
   "metadata": {},
   "source": [
    "Найди среднее время заполнения опроса в **минутах**. Результат округли до 2х знаков после запятой"
   ]
  },
  {
   "cell_type": "code",
   "execution_count": 57,
   "metadata": {},
   "outputs": [],
   "source": [
    "data['Duration (in seconds)'] = data['Duration (in seconds)'].astype(int) #Перевод в целые числа"
   ]
  },
  {
   "cell_type": "code",
   "execution_count": 64,
   "outputs": [],
   "source": [
    "duration_mean = round( data['Duration (in seconds)'].mean()/60, 2) #Среднее в минутах и округленное"
   ],
   "metadata": {
    "collapsed": false
   }
  },
  {
   "cell_type": "code",
   "execution_count": 65,
   "outputs": [
    {
     "data": {
      "text/plain": "168.17"
     },
     "execution_count": 65,
     "metadata": {},
     "output_type": "execute_result"
    }
   ],
   "source": [
    "duration_mean #Ответ"
   ],
   "metadata": {
    "collapsed": false
   }
  },
  {
   "cell_type": "markdown",
   "metadata": {},
   "source": [
    "## Задание 4"
   ]
  },
  {
   "cell_type": "markdown",
   "metadata": {},
   "source": [
    "Выведи топ-3 образовательных курса, которые указали респонденты. P.S Это вопрос Q6"
   ]
  },
  {
   "cell_type": "code",
   "execution_count": 68,
   "metadata": {},
   "outputs": [],
   "source": [
    "q6_columns = [col for col in data.columns if col.startswith('Q6')] #Сбор всех колонок где есть 6 вопрос"
   ]
  },
  {
   "cell_type": "code",
   "execution_count": 70,
   "outputs": [],
   "source": [
    "courses = data[q6_columns].melt(var_name = 'question', value_vars = q6_columns) # объединение колонок в одну"
   ],
   "metadata": {
    "collapsed": false
   }
  },
  {
   "cell_type": "code",
   "execution_count": 72,
   "outputs": [
    {
     "data": {
      "text/plain": "Coursera                                                 9699\nUniversity Courses (resulting in a university degree)    6780\nKaggle Learn Courses                                     6628\nName: value, dtype: int64"
     },
     "execution_count": 72,
     "metadata": {},
     "output_type": "execute_result"
    }
   ],
   "source": [
    "courses['value'].value_counts().iloc[:3] #Топ 3 курсов по версии опроса"
   ],
   "metadata": {
    "collapsed": false
   }
  },
  {
   "cell_type": "markdown",
   "metadata": {},
   "source": [
    "## Задание 5"
   ]
  },
  {
   "cell_type": "markdown",
   "metadata": {},
   "source": [
    "Узнай топ-5 языков программирования, которые регулярно используют Data Scientists в своей работе"
   ]
  },
  {
   "cell_type": "code",
   "execution_count": 73,
   "metadata": {},
   "outputs": [],
   "source": [
    "q12_columns = [col for col in data.columns if col.startswith('Q12')] #Сбор всех колонок где есть 12 вопрос"
   ]
  },
  {
   "cell_type": "code",
   "execution_count": 74,
   "outputs": [],
   "source": [
    "languages = data[q12_columns].melt(var_name = 'question', value_vars = q12_columns) # объединение колонок в одну"
   ],
   "metadata": {
    "collapsed": false
   }
  },
  {
   "cell_type": "code",
   "execution_count": 78,
   "outputs": [
    {
     "data": {
      "text/plain": "Python    18653\nSQL        9620\nR          4571\nC++        4549\nJava       3862\nName: value, dtype: int64"
     },
     "execution_count": 78,
     "metadata": {},
     "output_type": "execute_result"
    }
   ],
   "source": [
    "languages['value'].value_counts().iloc[:5] #Топ 5 языков по версии опроса"
   ],
   "metadata": {
    "collapsed": false
   }
  },
  {
   "cell_type": "markdown",
   "metadata": {},
   "source": [
    "## Задание 6"
   ]
  },
  {
   "cell_type": "markdown",
   "metadata": {},
   "source": [
    "Узнай средний доход 'Data Scientist' и 'Machine Learning/ MLops Engineer' \\\n",
    "Т.к в колонке Q29 у на промежуток, то возьмите среднее значение из промежкутка. Например '15,000-19,999' - 17500, '125,000-149,999' - 137500. >$1,000,000 - оставляем 1000000"
   ]
  },
  {
   "cell_type": "code",
   "execution_count": 81,
   "outputs": [],
   "source": [
    "avg_salary = {\n",
    "    '$0-999': 500,'1,000-1,999': 1500, '2,000-2,999': 2500, '3,000-3,999': 3500, '4,000-4,999': 4500, '5,000-7,499': 6250, '7,500-9,999': 8750, '10,000-14,999': 12500, '15,000-19,999': 17500, '20,000-24,999': 22500, '25,000-29,999': 27500, '30,000-39,999': 35000, '40,000-49,999': 45000, '50,000-59,999': 55000, '60,000-69,999': 65000, '70,000-79,999': 75000, '80,000-89,999': 85000, '90,000-99,999': 95000, '100,000-124,999': 112500, '125,000-149,999': 137500, '150,000-199,999': 175000, '200,000-249,999': 225000, '250,000-299,999': 275000, '300,000-499,999': 400000, '$500,000-999,999': 750000, '>$1,000,000': 1000000\n",
    "} #Замена зарплаты на среднюю"
   ],
   "metadata": {
    "collapsed": false
   }
  },
  {
   "cell_type": "code",
   "execution_count": 82,
   "outputs": [],
   "source": [
    "data['Q29-NEW'] = data['Q29'].map(avg_salary) #Интеграция средних  в датафрейм"
   ],
   "metadata": {
    "collapsed": false
   }
  },
  {
   "cell_type": "code",
   "execution_count": 99,
   "outputs": [],
   "source": [
    "DS_ML = data[\n",
    "    (data['Q23'] == 'Data Scientist') | (data['Q23'] == 'Machine Learning/ MLops Engineer')\n",
    "] #Выборка по Дата Сайнтистам и Машинных обучателей :3"
   ],
   "metadata": {
    "collapsed": false
   }
  },
  {
   "cell_type": "code",
   "execution_count": 114,
   "outputs": [
    {
     "data": {
      "text/plain": "                                       Q29-NEW\nQ23                                           \nData Scientist                    70337.236534\nMachine Learning/ MLops Engineer  67437.747036",
      "text/html": "<div>\n<style scoped>\n    .dataframe tbody tr th:only-of-type {\n        vertical-align: middle;\n    }\n\n    .dataframe tbody tr th {\n        vertical-align: top;\n    }\n\n    .dataframe thead th {\n        text-align: right;\n    }\n</style>\n<table border=\"1\" class=\"dataframe\">\n  <thead>\n    <tr style=\"text-align: right;\">\n      <th></th>\n      <th>Q29-NEW</th>\n    </tr>\n    <tr>\n      <th>Q23</th>\n      <th></th>\n    </tr>\n  </thead>\n  <tbody>\n    <tr>\n      <th>Data Scientist</th>\n      <td>70337.236534</td>\n    </tr>\n    <tr>\n      <th>Machine Learning/ MLops Engineer</th>\n      <td>67437.747036</td>\n    </tr>\n  </tbody>\n</table>\n</div>"
     },
     "execution_count": 114,
     "metadata": {},
     "output_type": "execute_result"
    }
   ],
   "source": [
    "DS_ML[['Q23', 'Q29-NEW']].groupby('Q23').mean('Q29-NEW') #Ответ"
   ],
   "metadata": {
    "collapsed": false
   }
  },
  {
   "cell_type": "markdown",
   "metadata": {},
   "source": [
    "## Задание 7 - Дополнительное задание"
   ]
  },
  {
   "cell_type": "markdown",
   "metadata": {},
   "source": [
    "Найдите какой-нибудь интересный инсайт из этих данных. Пишите свои интересные инсайты в чат проекта с хэштегом.\n",
    "#инсайт\n",
    "\n",
    "Автор самого интересного инсайта получит p2p баллы. Поверь, они тебе понадобятся"
   ]
  },
  {
   "cell_type": "markdown",
   "source": [
    "Я решил посмотреть какие средние зпшки по странам и вот что обнаружил."
   ],
   "metadata": {
    "collapsed": false
   }
  },
  {
   "cell_type": "code",
   "execution_count": 107,
   "outputs": [],
   "source": [
    "q28_columns = [col for col in data.columns if col.startswith('Q28')] #Сбор всех колонок где есть 13 вопрос\n",
    "role = data[q28_columns].melt(var_name = 'question', value_vars = q28_columns) # объединение колонок в одну"
   ],
   "metadata": {
    "collapsed": false
   }
  },
  {
   "cell_type": "code",
   "execution_count": 118,
   "outputs": [
    {
     "data": {
      "text/plain": "                                                          Q29-NEW\nQ4                                                               \nUnited States of America                            149769.002789\nZimbabwe                                            143750.000000\nAustralia                                           135362.068966\nIsrael                                              132512.195122\nUnited Kingdom of Great Britain and Northern Ir...   99991.007194\nIreland                                              89233.333333\nCanada                                               85322.649573\nFrance                                               83633.211679\nSingapore                                            77081.081081\nGermany                                              76156.250000\nUnited Arab Emirates                                 71970.588235\nNetherlands                                          71354.166667\nBelgium                                              65409.090909\nCzech Republic                                       61490.384615\nHong Kong (S.A.R.)                                   58980.769231\nSpain                                                52510.714286\nSouth Korea                                          49675.572519\nJapan                                                49524.024024\nSri Lanka                                            48687.500000\nSaudi Arabia                                         47500.000000\nPortugal                                             44505.952381\nItaly                                                42766.853933\nPoland                                               41506.756757\nOther                                                41443.737769\nChina                                                37858.796296\nTaiwan                                               36640.909091\nSouth Africa                                         35540.540541\nMorocco                                              34898.809524\nBrazil                                               33733.732877\nRomania                                              32931.818182\nI do not wish to disclose my location                31625.000000\nThailand                                             27774.509804\nMexico                                               27347.122302\nTurkey                                               26539.473684\nColombia                                             26036.516854\nChile                                                25347.222222\nIndia                                                25065.399485\nNepal                                                24807.692308\nUkraine                                              23738.636364\nRussia                                               20989.130435\nGhana                                                20500.000000\nEgypt                                                20340.659341\nEcuador                                              20083.333333\nTunisia                                              19200.000000\nMalaysia                                             18267.857143\nArgentina                                            16597.972973\nKenya                                                15389.534884\nPeru                                                 15218.750000\nPhilippines                                          13489.583333\nCameroon                                             13366.666667\nViet Nam                                             11527.272727\nBangladesh                                           11267.441860\nIndonesia                                            11162.735849\nPakistan                                              9755.725191\nIran, Islamic Republic of...                          9034.482759\nNigeria                                               7511.006289\nAlgeria                                               4000.000000\nEthiopia                                              2712.121212",
      "text/html": "<div>\n<style scoped>\n    .dataframe tbody tr th:only-of-type {\n        vertical-align: middle;\n    }\n\n    .dataframe tbody tr th {\n        vertical-align: top;\n    }\n\n    .dataframe thead th {\n        text-align: right;\n    }\n</style>\n<table border=\"1\" class=\"dataframe\">\n  <thead>\n    <tr style=\"text-align: right;\">\n      <th></th>\n      <th>Q29-NEW</th>\n    </tr>\n    <tr>\n      <th>Q4</th>\n      <th></th>\n    </tr>\n  </thead>\n  <tbody>\n    <tr>\n      <th>United States of America</th>\n      <td>149769.002789</td>\n    </tr>\n    <tr>\n      <th>Zimbabwe</th>\n      <td>143750.000000</td>\n    </tr>\n    <tr>\n      <th>Australia</th>\n      <td>135362.068966</td>\n    </tr>\n    <tr>\n      <th>Israel</th>\n      <td>132512.195122</td>\n    </tr>\n    <tr>\n      <th>United Kingdom of Great Britain and Northern Ireland</th>\n      <td>99991.007194</td>\n    </tr>\n    <tr>\n      <th>Ireland</th>\n      <td>89233.333333</td>\n    </tr>\n    <tr>\n      <th>Canada</th>\n      <td>85322.649573</td>\n    </tr>\n    <tr>\n      <th>France</th>\n      <td>83633.211679</td>\n    </tr>\n    <tr>\n      <th>Singapore</th>\n      <td>77081.081081</td>\n    </tr>\n    <tr>\n      <th>Germany</th>\n      <td>76156.250000</td>\n    </tr>\n    <tr>\n      <th>United Arab Emirates</th>\n      <td>71970.588235</td>\n    </tr>\n    <tr>\n      <th>Netherlands</th>\n      <td>71354.166667</td>\n    </tr>\n    <tr>\n      <th>Belgium</th>\n      <td>65409.090909</td>\n    </tr>\n    <tr>\n      <th>Czech Republic</th>\n      <td>61490.384615</td>\n    </tr>\n    <tr>\n      <th>Hong Kong (S.A.R.)</th>\n      <td>58980.769231</td>\n    </tr>\n    <tr>\n      <th>Spain</th>\n      <td>52510.714286</td>\n    </tr>\n    <tr>\n      <th>South Korea</th>\n      <td>49675.572519</td>\n    </tr>\n    <tr>\n      <th>Japan</th>\n      <td>49524.024024</td>\n    </tr>\n    <tr>\n      <th>Sri Lanka</th>\n      <td>48687.500000</td>\n    </tr>\n    <tr>\n      <th>Saudi Arabia</th>\n      <td>47500.000000</td>\n    </tr>\n    <tr>\n      <th>Portugal</th>\n      <td>44505.952381</td>\n    </tr>\n    <tr>\n      <th>Italy</th>\n      <td>42766.853933</td>\n    </tr>\n    <tr>\n      <th>Poland</th>\n      <td>41506.756757</td>\n    </tr>\n    <tr>\n      <th>Other</th>\n      <td>41443.737769</td>\n    </tr>\n    <tr>\n      <th>China</th>\n      <td>37858.796296</td>\n    </tr>\n    <tr>\n      <th>Taiwan</th>\n      <td>36640.909091</td>\n    </tr>\n    <tr>\n      <th>South Africa</th>\n      <td>35540.540541</td>\n    </tr>\n    <tr>\n      <th>Morocco</th>\n      <td>34898.809524</td>\n    </tr>\n    <tr>\n      <th>Brazil</th>\n      <td>33733.732877</td>\n    </tr>\n    <tr>\n      <th>Romania</th>\n      <td>32931.818182</td>\n    </tr>\n    <tr>\n      <th>I do not wish to disclose my location</th>\n      <td>31625.000000</td>\n    </tr>\n    <tr>\n      <th>Thailand</th>\n      <td>27774.509804</td>\n    </tr>\n    <tr>\n      <th>Mexico</th>\n      <td>27347.122302</td>\n    </tr>\n    <tr>\n      <th>Turkey</th>\n      <td>26539.473684</td>\n    </tr>\n    <tr>\n      <th>Colombia</th>\n      <td>26036.516854</td>\n    </tr>\n    <tr>\n      <th>Chile</th>\n      <td>25347.222222</td>\n    </tr>\n    <tr>\n      <th>India</th>\n      <td>25065.399485</td>\n    </tr>\n    <tr>\n      <th>Nepal</th>\n      <td>24807.692308</td>\n    </tr>\n    <tr>\n      <th>Ukraine</th>\n      <td>23738.636364</td>\n    </tr>\n    <tr>\n      <th>Russia</th>\n      <td>20989.130435</td>\n    </tr>\n    <tr>\n      <th>Ghana</th>\n      <td>20500.000000</td>\n    </tr>\n    <tr>\n      <th>Egypt</th>\n      <td>20340.659341</td>\n    </tr>\n    <tr>\n      <th>Ecuador</th>\n      <td>20083.333333</td>\n    </tr>\n    <tr>\n      <th>Tunisia</th>\n      <td>19200.000000</td>\n    </tr>\n    <tr>\n      <th>Malaysia</th>\n      <td>18267.857143</td>\n    </tr>\n    <tr>\n      <th>Argentina</th>\n      <td>16597.972973</td>\n    </tr>\n    <tr>\n      <th>Kenya</th>\n      <td>15389.534884</td>\n    </tr>\n    <tr>\n      <th>Peru</th>\n      <td>15218.750000</td>\n    </tr>\n    <tr>\n      <th>Philippines</th>\n      <td>13489.583333</td>\n    </tr>\n    <tr>\n      <th>Cameroon</th>\n      <td>13366.666667</td>\n    </tr>\n    <tr>\n      <th>Viet Nam</th>\n      <td>11527.272727</td>\n    </tr>\n    <tr>\n      <th>Bangladesh</th>\n      <td>11267.441860</td>\n    </tr>\n    <tr>\n      <th>Indonesia</th>\n      <td>11162.735849</td>\n    </tr>\n    <tr>\n      <th>Pakistan</th>\n      <td>9755.725191</td>\n    </tr>\n    <tr>\n      <th>Iran, Islamic Republic of...</th>\n      <td>9034.482759</td>\n    </tr>\n    <tr>\n      <th>Nigeria</th>\n      <td>7511.006289</td>\n    </tr>\n    <tr>\n      <th>Algeria</th>\n      <td>4000.000000</td>\n    </tr>\n    <tr>\n      <th>Ethiopia</th>\n      <td>2712.121212</td>\n    </tr>\n  </tbody>\n</table>\n</div>"
     },
     "execution_count": 118,
     "metadata": {},
     "output_type": "execute_result"
    }
   ],
   "source": [
    "data[['Q4', 'Q29-NEW']].groupby('Q4').mean('Q29-NEW').sort_values(by='Q29-NEW', ascending = False)"
   ],
   "metadata": {
    "collapsed": false
   }
  },
  {
   "cell_type": "markdown",
   "source": [
    "Зимбабве на втором месте, а наша любимая страна всего на 40ом! Мы что-то не знаем о Зимбабве. Есть вероятность, что все, кто выжили в гонке со львом отправляются добывать алмазики и золото. Люди устраивают бунты, на что власти компании должны повышать зарплату. Но у властей возникает 100500 вопросов, когда разнорабочий получает больше 100к долларов. Тогда компания решила выдать им айтишные должности, после таких маневров, государство их не трогало. Это все теории и догадки и все совпадения случайны.\n",
    "А ещё ... возможно, именно там находится Ваканда! ( Ваканда навеки \"X\" !)"
   ],
   "metadata": {
    "collapsed": false
   }
  }
 ],
 "metadata": {
  "kernelspec": {
   "display_name": "Python 3 (ipykernel)",
   "language": "python",
   "name": "python3"
  },
  "language_info": {
   "codemirror_mode": {
    "name": "ipython",
    "version": 3
   },
   "file_extension": ".py",
   "mimetype": "text/x-python",
   "name": "python",
   "nbconvert_exporter": "python",
   "pygments_lexer": "ipython3",
   "version": "3.9.6"
  }
 },
 "nbformat": 4,
 "nbformat_minor": 4
}
