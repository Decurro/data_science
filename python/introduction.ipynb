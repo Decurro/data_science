{
 "cells": [
  {
   "cell_type": "markdown",
   "id": "fffcbb2c-4423-4f1c-bc90-e1ac7fbaa456",
   "metadata": {},
   "source": [
    "# Задания "
   ]
  },
  {
   "cell_type": "markdown",
   "id": "c2d747fe-7b74-43e0-95b3-16525e9846ac",
   "metadata": {},
   "source": [
    "## Task 1"
   ]
  },
  {
   "cell_type": "markdown",
   "id": "685b3747-2ce6-434d-8969-a91baddbf85a",
   "metadata": {},
   "source": [
    "Напиши код, который будет решать квадратное уравнение вида\n",
    "$ax^2 + bx + c = 0$. \\\n",
    "Для этого понадобится найти дискриминант. Его формула - $ D = b^2 − 4ac $"
   ]
  },
  {
   "cell_type": "markdown",
   "id": "20bf557b-21f9-46fa-b8db-76b7a96526f4",
   "metadata": {},
   "source": [
    "Для начала напиши формулу нахождения корней квадратного уравнения на языке LaTeX\n",
    "\n",
    "$ x = \\frac{?}{?} $"
   ]
  },
  {
   "cell_type": "markdown",
   "id": "c78b058d-777d-4369-b86d-0c0fc013eba9",
   "metadata": {},
   "source": [
    "Теперь, когда ты вспомнил как находить корни, приступай к написанию функции:\n",
    "- Функция принимает на вход коэффициент a, b, c.\n",
    "- Функция должна возвращать кортеж корней уравнения. \n",
    "- Если корней у уравнения нет, то функция должна вернуть None"
   ]
  },
  {
   "cell_type": "code",
   "execution_count": 17,
   "id": "03b8b371-870b-42cc-8f53-1e8596406894",
   "metadata": {
    "ExecuteTime": {
     "start_time": "2023-04-02T15:45:24.363302Z",
     "end_time": "2023-04-02T15:45:24.415964Z"
    }
   },
   "outputs": [],
   "source": [
    "def quadratic_equation(a, b, c):\n",
    "    roots = ()\n",
    "    d = b**2 - 4*a*c\n",
    "    if d < 0:\n",
    "        return None\n",
    "    if d == 0:\n",
    "        x = (-b)/(2*a)\n",
    "        roots = (x,)\n",
    "    else:\n",
    "        x_1 = (-b+d**0.5)/(2*a)\n",
    "        x_2 = (-b-d**0.5)/(2*a)\n",
    "        roots = (x_1, x_2)\n",
    "    return roots"
   ]
  },
  {
   "cell_type": "markdown",
   "id": "a8541146-f127-4482-b067-279d50975dac",
   "metadata": {},
   "source": [
    "## Task 2"
   ]
  },
  {
   "cell_type": "markdown",
   "id": "816c48be-0963-4bd6-bd86-c8172eb8968e",
   "metadata": {},
   "source": [
    "Функция, которая на вход принимает cписок случайных чисел, а возвращает уже отсортированный методом Пузырька по возрастанию."
   ]
  },
  {
   "cell_type": "code",
   "execution_count": 15,
   "id": "3fbaf6b3-876f-4ecf-9be6-d26181ee3a48",
   "metadata": {},
   "outputs": [],
   "source": [
    "def bubble_sort(lst):\n",
    "    quantity = len(lst)\n",
    "    for j in range(quantity - 1):\n",
    "        for k in range(quantity - j - 1):\n",
    "            if (lst[k] > lst[k+1]):\n",
    "                lst[k], lst[k+1] = lst[k+1], lst[k]\n",
    "    return lst"
   ]
  },
  {
   "cell_type": "markdown",
   "id": "0026496c-03a8-4fcc-907b-dfb8f3fc0efb",
   "metadata": {},
   "source": [
    "## Task 3"
   ]
  },
  {
   "cell_type": "markdown",
   "id": "688251be-39a3-49ed-9993-a5f9b39f430d",
   "metadata": {},
   "source": [
    "Самое часто встречающееся слово в романе \"Война и Мир\" без учета:\n",
    "   * Пунктуации\n",
    "   * Слов **короче четырех** символов \n",
    "   * 'Стоп-слов', которые приведены в файле в stop_words_russian.txt"
   ]
  },
  {
   "cell_type": "code",
   "execution_count": 25,
   "id": "94501d71-ee88-4f78-808d-20e79a5f3707",
   "metadata": {
    "ExecuteTime": {
     "start_time": "2023-04-02T15:48:47.119940Z",
     "end_time": "2023-04-02T15:48:47.189920Z"
    }
   },
   "outputs": [],
   "source": [
    "def clear(str):\n",
    "    symb = [\",\", '.', '!', '?', ':', ';', ')', '(', '[', ']']\n",
    "    for elem in symb:\n",
    "        if elem in str:\n",
    "            str = str.replace(elem,\"\")\n",
    "        else:\n",
    "            continue\n",
    "    return str\n",
    "\n",
    "def put_words_in_list(filename):\n",
    "\n",
    "    with open(filename, 'r') as file:\n",
    "        contents = file.read()\n",
    "        words = clear(contents)\n",
    "        words = words.split()\n",
    "    return  words\n",
    "\n",
    "def sorted_dict(popular):\n",
    "    sorted_val = dict(sorted(popular.items(), key = lambda  item: item[1], reverse = True))\n",
    "    return sorted_val\n",
    "\n",
    "def counter_word(filename, filename_non):\n",
    "    popular = {}\n",
    "    check = put_words_in_list(filename)\n",
    "    roman = put_words_in_list(filename_non)\n",
    "    for word in roman:\n",
    "        if word in check:\n",
    "            continue\n",
    "        else:\n",
    "            if len(word) < 4:\n",
    "                continue\n",
    "            else:\n",
    "                if word in popular:\n",
    "                    popular[word] += 1\n",
    "                else:\n",
    "                    popular[word] = 1\n",
    "    popular = sorted_dict(popular)\n",
    "    top_1 = list(popular)\n",
    "    return top_1[0]\n"
   ]
  },
  {
   "cell_type": "code",
   "execution_count": 28,
   "outputs": [],
   "source": [
    "filename = './datasets/war_and_peace.txt'\n",
    "filename_non = './datasets/stop_words_russian.txt'"
   ],
   "metadata": {
    "collapsed": false,
    "ExecuteTime": {
     "start_time": "2023-04-02T15:51:23.587403Z",
     "end_time": "2023-04-02T15:51:23.683442Z"
    }
   }
  },
  {
   "cell_type": "code",
   "execution_count": 30,
   "outputs": [
    {
     "data": {
      "text/plain": "'Пьер'"
     },
     "execution_count": 30,
     "metadata": {},
     "output_type": "execute_result"
    }
   ],
   "source": [
    "counter_word(filename_non, filename)"
   ],
   "metadata": {
    "collapsed": false,
    "ExecuteTime": {
     "start_time": "2023-04-02T15:51:46.545127Z",
     "end_time": "2023-04-02T15:51:49.819138Z"
    }
   }
  },
  {
   "cell_type": "markdown",
   "id": "d4b6f922-7a22-4b38-8529-c92994edd38c",
   "metadata": {},
   "source": [
    "## Task 4"
   ]
  },
  {
   "cell_type": "markdown",
   "id": "c2cef602-ab87-47f8-ab2c-e323442b62f7",
   "metadata": {},
   "source": [
    "Функция для расчета числа Фибоначчи с использованием рекурсивной функции."
   ]
  },
  {
   "cell_type": "code",
   "execution_count": 14,
   "id": "ec1c1860-774d-4583-a44b-bdc30492eead",
   "metadata": {
    "ExecuteTime": {
     "start_time": "2023-04-02T15:44:14.067798Z",
     "end_time": "2023-04-02T15:44:14.149962Z"
    }
   },
   "outputs": [],
   "source": [
    "def fib(n):\n",
    "    if n == 1 or n == 2:\n",
    "        return 1\n",
    "    else:\n",
    "        return fib(n-2) + fib(n-1)"
   ]
  },
  {
   "cell_type": "code",
   "execution_count": 16,
   "outputs": [
    {
     "data": {
      "text/plain": "196418"
     },
     "execution_count": 16,
     "metadata": {},
     "output_type": "execute_result"
    }
   ],
   "source": [
    "fib(27)"
   ],
   "metadata": {
    "collapsed": false,
    "ExecuteTime": {
     "start_time": "2023-04-02T15:45:07.767964Z",
     "end_time": "2023-04-02T15:45:07.852650Z"
    }
   }
  },
  {
   "cell_type": "markdown",
   "id": "1acc3069-4b1a-4a5c-98e4-055731203d2d",
   "metadata": {},
   "source": [
    "## Task 5"
   ]
  },
  {
   "cell_type": "markdown",
   "id": "944e804e-fb40-4ea2-b931-38b595d3c262",
   "metadata": {},
   "source": [
    "Функция перевода валюты в рубли."
   ]
  },
  {
   "cell_type": "code",
   "execution_count": 154,
   "id": "570cfb71-5cf0-41fc-aae7-cf2b2812eaca",
   "metadata": {},
   "outputs": [],
   "source": [
    "import requests\n",
    "def convert2RU(currency, value):\n",
    "    url = 'https://www.cbr-xml-daily.ru/daily_json.js'\n",
    "    response = requests.get(url)\n",
    "    if response.status_code == 200:\n",
    "        data = response.json()\n",
    "        return (value * data[\"Valute\"][currency][\"Value\"])\n",
    "    else:\n",
    "        return print(\"Error\")"
   ]
  },
  {
   "cell_type": "markdown",
   "id": "fe1396fa-7109-48ad-a255-4d4f622c18a4",
   "metadata": {},
   "source": [
    "## *Task 6. Дополнительное задание"
   ]
  },
  {
   "cell_type": "markdown",
   "id": "71315701-39bd-4759-afd9-7bf20486b4f7",
   "metadata": {},
   "source": [
    "Написание проверки на пaлиндром."
   ]
  },
  {
   "cell_type": "markdown",
   "id": "715fd45b-eb76-4eb5-bbd8-a257035fe892",
   "metadata": {},
   "source": [
    "1. На вход функции _isPalindrome_ подается **число** (int). \\\n",
    "Функция возвращает **True**, если число является палидромом и **False** в противном случае. "
   ]
  },
  {
   "cell_type": "code",
   "execution_count": 31,
   "id": "9f48d9c7-c413-47fb-b692-ce5ad8ed9ec1",
   "metadata": {
    "ExecuteTime": {
     "start_time": "2023-04-02T15:55:05.080830Z",
     "end_time": "2023-04-02T15:55:05.183605Z"
    }
   },
   "outputs": [],
   "source": [
    "def isPalindrome(x: int) -> bool:\n",
    "    int_to_str = str(x)\n",
    "    rever = int_to_str[::-1]\n",
    "    if int_to_str == rever and x > 0:\n",
    "        return True\n",
    "    else:\n",
    "        return False"
   ]
  },
  {
   "cell_type": "markdown",
   "id": "e86f6f7c-c3b0-4b92-bb3d-651dcc7d4706",
   "metadata": {},
   "source": [
    "2. Реализация функции без использования перевода числа в строку."
   ]
  },
  {
   "cell_type": "code",
   "execution_count": 33,
   "id": "35cf92fa-04c6-489b-9523-99d78dce4ba1",
   "metadata": {
    "ExecuteTime": {
     "start_time": "2023-04-02T15:55:47.402144Z",
     "end_time": "2023-04-02T15:55:47.447978Z"
    }
   },
   "outputs": [],
   "source": [
    "def isPalindrome_v2(x: int) -> bool:\n",
    "    numbers = []\n",
    "    while x > 0:\n",
    "        one = x % 10\n",
    "        numbers += [one]\n",
    "        x //= 10\n",
    "    orig = numbers[::-1]\n",
    "    if orig == numbers and x > 0:\n",
    "        return True\n",
    "    else:\n",
    "        return False"
   ]
  }
 ],
 "metadata": {
  "kernelspec": {
   "display_name": "Python 3 (ipykernel)",
   "language": "python",
   "name": "python3"
  },
  "language_info": {
   "codemirror_mode": {
    "name": "ipython",
    "version": 3
   },
   "file_extension": ".py",
   "mimetype": "text/x-python",
   "name": "python",
   "nbconvert_exporter": "python",
   "pygments_lexer": "ipython3",
   "version": "3.9.10"
  }
 },
 "nbformat": 4,
 "nbformat_minor": 5
}
