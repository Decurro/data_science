{
 "cells": [
  {
   "cell_type": "markdown",
   "source": [
    "# Task"
   ],
   "metadata": {
    "collapsed": false
   }
  },
  {
   "cell_type": "code",
   "execution_count": null,
   "metadata": {
    "ExecuteTime": {
     "start_time": "2023-04-19T15:19:28.176144Z",
     "end_time": "2023-04-19T15:19:28.446427Z"
    }
   },
   "outputs": [],
   "source": [
    "import pandas as pd\n",
    "import matplotlib.pyplot as plt"
   ]
  },
  {
   "cell_type": "code",
   "execution_count": null,
   "metadata": {
    "ExecuteTime": {
     "start_time": "2023-04-19T15:19:28.211737Z",
     "end_time": "2023-04-19T15:19:29.662030Z"
    }
   },
   "outputs": [],
   "source": [
    "data = pd.read_csv('./datasets/kaggle_survey_2022_responses.csv', low_memory=False)\n",
    "data.drop(0, inplace = True) # Удаление вопросиков\n",
    "name2question = data.iloc[0] "
   ]
  },
  {
   "cell_type": "markdown",
   "source": [
    "## Task 1"
   ],
   "metadata": {
    "collapsed": false
   }
  },
  {
   "cell_type": "markdown",
   "source": [
    "Используя библиотеку matplotlib, построй круговую диаграмму (Pie plot) для возраста респондента."
   ],
   "metadata": {
    "collapsed": false
   }
  },
  {
   "cell_type": "code",
   "execution_count": null,
   "outputs": [],
   "source": [
    "q2_counts = data['Q2'].value_counts()\n",
    "data_for_age = pd.DataFrame({'Возраст': q2_counts.index, 'Количество': q2_counts.values})\n",
    "\n",
    "explode = (0.1, 0, 0, 0, 0, 0 , 0, 0, 0 ,0 , 0)\n",
    "\n",
    "fig, ax = plt.subplots(figsize = (10,10))\n",
    "wedges, texts, autotexts = ax.pie(data_for_age['Количество'], explode=explode, labels = None, autopct='%1.1f', textprops = {'color':'black'})\n",
    "ax.set_title(\"Возраст респондента\", fontsize = 20)\n",
    "ax.legend(data_for_age['Возраст'],title = None, loc = 'center left', bbox_to_anchor = (-0.1, 0.3), fontsize = 14)\n",
    "plt.setp(autotexts, size = 12, weight = 'bold')\n",
    "\n",
    "plt.show()"
   ],
   "metadata": {
    "collapsed": false,
    "ExecuteTime": {
     "start_time": "2023-04-19T15:19:29.659660Z",
     "end_time": "2023-04-19T15:19:30.102425Z"
    }
   }
  },
  {
   "cell_type": "raw",
   "source": [
    "## Task 2"
   ],
   "metadata": {
    "collapsed": false
   }
  },
  {
   "cell_type": "raw",
   "source": [
    "Используя библиотеку seaborn, построй столбцовую диаграмму (Bar plot) по популярности библиотек для визуализации."
   ],
   "metadata": {
    "collapsed": false
   }
  },
  {
   "cell_type": "code",
   "execution_count": null,
   "metadata": {
    "ExecuteTime": {
     "start_time": "2023-04-19T15:19:30.063827Z",
     "end_time": "2023-04-19T15:19:30.102813Z"
    }
   },
   "outputs": [],
   "source": [
    "import seaborn as sns"
   ]
  },
  {
   "cell_type": "code",
   "execution_count": null,
   "outputs": [],
   "source": [
    "q15_columns = [col for col in data.columns if col.startswith('Q15')]\n",
    "vis_libs = data[q15_columns].melt(var_name = 'question', value_vars = q15_columns)\n",
    "q15_counts = vis_libs['value'].value_counts()\n",
    "data_for_vis_lib = pd.DataFrame({'Библиотека': q15_counts.index, 'Количество': q15_counts.values})\n",
    "\n",
    "fig, ax = plt.subplots(figsize = (10,10))\n",
    "ax = sns.barplot(x = data_for_vis_lib['Количество'], y = 'Библиотека', data = data_for_vis_lib)\n",
    "ax.tick_params('x', labelrotation=45)\n",
    "plt.title('Популярность библиотек для визуализации')\n",
    "plt.show()\n"
   ],
   "metadata": {
    "collapsed": false,
    "ExecuteTime": {
     "start_time": "2023-04-19T15:19:30.082250Z",
     "end_time": "2023-04-19T15:19:30.659613Z"
    }
   }
  },
  {
   "cell_type": "raw",
   "source": [
    "## Task 3"
   ],
   "metadata": {
    "collapsed": false
   }
  },
  {
   "cell_type": "raw",
   "source": [
    "Используя библиотеку seaborn, построй диаграмму \"Ящик с усами\" (Box plot) заработка по различным специальностям."
   ],
   "metadata": {
    "collapsed": false
   }
  },
  {
   "cell_type": "code",
   "execution_count": null,
   "metadata": {
    "ExecuteTime": {
     "start_time": "2023-04-19T15:19:30.620265Z",
     "end_time": "2023-04-19T15:19:31.271509Z"
    }
   },
   "outputs": [],
   "source": [
    " avg_salary = {\n",
    "    '$0-999': 500,'1,000-1,999': 1500, '2,000-2,999': 2500, '3,000-3,999': 3500, '4,000-4,999': 4500, '5,000-7,499': 6250, '7,500-9,999': 8750, '10,000-14,999': 12500, '15,000-19,999': 17500, '20,000-24,999': 22500, '25,000-29,999': 27500, '30,000-39,999': 35000, '40,000-49,999': 45000, '50,000-59,999': 55000, '60,000-69,999': 65000, '70,000-79,999': 75000, '80,000-89,999': 85000, '90,000-99,999': 95000, '100,000-124,999': 112500, '125,000-149,999': 137500, '150,000-199,999': 175000, '200,000-249,999': 225000, '250,000-299,999': 275000, '300,000-499,999': 400000, '$500,000-999,999': 750000, '>$1,000,000': 1000000\n",
    "}\n",
    "data['Q29-NEW'] = data['Q29'].map(avg_salary) #Интеграция средних  в датафрейм\n",
    "profs = data[(data['Q23'] != 'Currently not employed') & (data['Q29-NEW'])]\n",
    "\n",
    "sns.set_theme(style = 'ticks')\n",
    "fig, ax = plt.subplots(figsize = (10,10))\n",
    "ax.tick_params('y', labelrotation=15)\n",
    "sns.boxplot(x = 'Q29-NEW', y = 'Q23', data = profs)\n",
    "ax.set_xlabel('Годовой доход в $')\n",
    "ax.set_ylabel('Специальность')\n",
    "# ax.set_xticks([0, 50000, 100000, 150000, 200000, 250000, 300000])\n",
    "plt.title('Годовой доход по специальности')\n",
    "ax.set_xlim(0, 300000)\n",
    "plt.show()"
   ]
  },
  {
   "cell_type": "raw",
   "source": [
    "## Task 4\n",
    "Используя библиотеку plotly, построй столбцовую диаграмму (Bar plot) на распределение респондентов по возрасту по\n",
    "специальностям Data Administrator, Data Analyst, Data Engineer, Data Scientist, Engineer, MLops Engineer, \n",
    "Research Scientist, Software Engineer, Data Architect"
   ],
   "metadata": {
    "collapsed": false
   }
  },
  {
   "cell_type": "code",
   "execution_count": null,
   "outputs": [],
   "source": [
    "import plotly.graph_objs as go\n",
    "from plotly.subplots import make_subplots\n",
    "import plotly.express as px\n",
    "import kaleido"
   ],
   "metadata": {
    "collapsed": false,
    "ExecuteTime": {
     "start_time": "2023-04-19T15:19:31.271302Z",
     "end_time": "2023-04-19T15:19:31.457459Z"
    }
   }
  },
  {
   "cell_type": "code",
   "execution_count": null,
   "metadata": {
    "ExecuteTime": {
     "start_time": "2023-04-19T15:19:31.465150Z",
     "end_time": "2023-04-19T15:19:32.213068Z"
    }
   },
   "outputs": [],
   "source": [
    "t4 = data[\n",
    "    ((data['Q23'] == 'Data Administrator') |\n",
    "    (data['Q23'] == 'Data Analyst (Business, Marketing, Financial, Quantitative, etc)') |\n",
    "    (data['Q23'] == 'Data Engineer') |\n",
    "    (data['Q23'] == 'Data Scientist') |\n",
    "    (data['Q23'] == 'Engineer (non-software)') |\n",
    "    (data['Q23'] == 'Machine Learning/ MLops Engineer') |\n",
    "    (data['Q23'] == 'Research Scientist') |\n",
    "    (data['Q23'] == 'Software Engineer') |\n",
    "    (data['Q23'] == 'Data Architect')) & data['Q2']\n",
    "]\n",
    "df_spec_1 = t4[['Q23', 'Q2']].value_counts().reset_index()\n",
    "df_spec_1.columns = ['Q23', 'Q2', 'value_counts']\n",
    "df_spec = df_spec_1.sort_values(by = 'Q2')\n",
    "\n",
    "df_pro = df_spec['Q23'].unique()\n",
    "df_pro[3] = 'Engineer'\n",
    "df_pro[4] = 'MLops Engineer'\n",
    "df_pro[5] = 'Data Analyst'\n",
    "\n",
    "formatted_values = df_pro.tolist()\n",
    "formatted_values = list(map(lambda x: f'<b><i>{x}</i></b>', formatted_values))\n",
    "\n",
    "fig = make_subplots(rows = 3, cols = 3, shared_xaxes = False, shared_yaxes = False, subplot_titles = formatted_values)\n",
    "\n",
    "colors = px.colors.qualitative.Pastel\n",
    "\n",
    "for i, q23 in enumerate(df_spec['Q23'].unique()):\n",
    "    set = df_spec[df_spec['Q23'] == q23]\n",
    "    row = i//3 +1\n",
    "    col = i%3 + 1\n",
    "    fig.add_trace(go.Bar(x = set['Q2'], y = set['value_counts'], name = q23, marker_color = colors[i]), row = row, col = col)\n",
    "\n",
    "fig.update_layout(height = 600, width = 1200, title_text = \"<i>Распределение возрастов по специальности</i>\")\n",
    "# fig.write_image(\"../misc/images/t4.svg\")\n",
    "fig.show()\n"
   ]
  },
  {
   "cell_type": "raw",
   "source": [
    "## Task 5"
   ],
   "metadata": {
    "collapsed": false
   }
  },
  {
   "cell_type": "raw",
   "source": [
    "Используя библиотеку plotly, построй карту стран респондентов. В этом тебе поможет [plotly.choropleth](https://plotly.com/python/choropleth-maps/)"
   ],
   "metadata": {
    "collapsed": false
   }
  },
  {
   "cell_type": "code",
   "execution_count": null,
   "outputs": [],
   "source": [
    "df_country = data['Q4'].value_counts().reset_index()\n",
    "df_country.columns = ['Q4','value_counts']\n",
    "df_t = px.data.gapminder().query(\"year == 2007\")\n",
    "fig = px.choropleth(df_country,  locations = 'Q4',\n",
    "                    color = 'value_counts',\n",
    "                    hover_name = 'Q4',\n",
    "                    locationmode='country names',\n",
    "                    range_color=[0,1000],\n",
    "                    title= 'Карта Мира')\n",
    "fig.update_layout(\n",
    "    coloraxis_colorbar = dict(\n",
    "        y = 0.5,\n",
    "        x = 0.72,\n",
    "        len = 1.74,\n",
    "        title = 'Количество респондентов',\n",
    "        ticks = 'outside',\n",
    "        ticklen = 10,\n",
    "        thickness = 25,\n",
    "        # tickcolor = 'white',\n",
    "        dtick = 200,\n",
    "        showticklabels = True\n",
    "    ),\n",
    "    title = dict(\n",
    "        y = 1,\n",
    "        x = 0.5\n",
    "    )\n",
    ")\n",
    "fig.show()"
   ],
   "metadata": {
    "collapsed": false,
    "ExecuteTime": {
     "start_time": "2023-04-19T15:19:32.222451Z",
     "end_time": "2023-04-19T15:19:32.261023Z"
    }
   }
  }
 ],
 "metadata": {
  "kernelspec": {
   "display_name": "Python 3 (ipykernel)",
   "language": "python",
   "name": "python3"
  },
  "language_info": {
   "codemirror_mode": {
    "name": "ipython",
    "version": 3
   },
   "file_extension": ".py",
   "mimetype": "text/x-python",
   "name": "python",
   "nbconvert_exporter": "python",
   "pygments_lexer": "ipython3",
   "version": "3.9.6"
  }
 },
 "nbformat": 4,
 "nbformat_minor": 4
}
