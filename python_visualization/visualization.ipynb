{
 "cells": [
  {
   "cell_type": "markdown",
   "metadata": {
    "jupyter": {
     "outputs_hidden": true
    }
   },
   "source": [
    "# Task"
   ]
  },
  {
   "cell_type": "code",
   "execution_count": null,
   "metadata": {
    "ExecuteTime": {
     "start_time": "2023-04-19T15:19:28.176144Z",
     "end_time": "2023-04-19T15:19:28.446427Z"
    }
   },
   "outputs": [],
   "source": [
    "import pandas as pd\n",
    "import matplotlib.pyplot as plt"
   ]
  },
  {
   "cell_type": "code",
   "execution_count": null,
   "metadata": {
    "ExecuteTime": {
     "start_time": "2023-04-19T15:19:28.211737Z",
     "end_time": "2023-04-19T15:19:29.662030Z"
    }
   },
   "outputs": [],
   "source": [
    "data = pd.read_csv('./datasets/kaggle_survey_2022_responses.csv', low_memory=False)\n",
    "data.drop(0, inplace = True) # Удаление вопросиков\n",
    "name2question = data.iloc[0] "
   ]
  },
  {
   "cell_type": "markdown",
   "metadata": {},
   "source": [
    "## Task 1"
   ]
  },
  {
   "cell_type": "markdown",
   "metadata": {},
   "source": [
    "Используя библиотеку matplotlib, построй круговую диаграмму (Pie plot) для возраста респондента."
   ]
  },
  {
   "cell_type": "code",
   "execution_count": null,
   "outputs": [],
   "source": [
    "q2_counts = data['Q2'].value_counts()\n",
    "data_for_age = pd.DataFrame({'Возраст': q2_counts.index, 'Количество': q2_counts.values})\n",
    "\n",
    "explode = (0.1, 0, 0, 0, 0, 0 , 0, 0, 0 ,0 , 0)\n",
    "\n",
    "fig, ax = plt.subplots(figsize = (10,10))\n",
    "wedges, texts, autotexts = ax.pie(data_for_age['Количество'], explode=explode, labels = None, autopct='%1.1f', textprops = {'color':'black'})\n",
    "ax.set_title(\"Возраст респондента\", fontsize = 20)\n",
    "ax.legend(data_for_age['Возраст'],title = None, loc = 'center left', bbox_to_anchor = (-0.1, 0.3), fontsize = 14)\n",
    "plt.setp(autotexts, size = 12, weight = 'bold')\n",
    "\n",
    "plt.show()"
   ],
   "metadata": {
    "collapsed": false,
    "ExecuteTime": {
     "start_time": "2023-04-19T15:19:29.659660Z",
     "end_time": "2023-04-19T15:19:30.102425Z"
    }
   }
  },
  {
   "cell_type": "markdown",
   "metadata": {},
   "source": [
    "## Task 2"
   ]
  },
  {
   "cell_type": "markdown",
   "metadata": {
    "ExecuteTime": {
     "start_time": "2023-04-04T09:22:25.789989Z",
     "end_time": "2023-04-04T09:22:25.921789Z"
    }
   },
   "source": [
    "Используя библиотеку seaborn, построй столбцовую диаграмму (Bar plot) по популярности библиотек для визуализации."
   ],
   "outputs": [],
   "execution_count": 215
  },
  {
   "cell_type": "code",
   "execution_count": null,
   "metadata": {
    "ExecuteTime": {
     "start_time": "2023-04-19T15:19:30.063827Z",
     "end_time": "2023-04-19T15:19:30.102813Z"
    }
   },
   "outputs": [],
   "source": [
    "import seaborn as sns"
   ]
  },
  {
   "cell_type": "code",
   "execution_count": null,
   "outputs": [],
   "source": [
    "q15_columns = [col for col in data.columns if col.startswith('Q15')]\n",
    "vis_libs = data[q15_columns].melt(var_name = 'question', value_vars = q15_columns)\n",
    "q15_counts = vis_libs['value'].value_counts()\n",
    "data_for_vis_lib = pd.DataFrame({'Библиотека': q15_counts.index, 'Количество': q15_counts.values})\n",
    "\n",
    "fig, ax = plt.subplots(figsize = (10,10))\n",
    "ax = sns.barplot(x = data_for_vis_lib['Количество'], y = 'Библиотека', data = data_for_vis_lib)\n",
    "ax.tick_params('x', labelrotation=45)\n",
    "plt.title('Популярность библиотек для визуализации')\n",
    "plt.show()\n"
   ],
   "metadata": {
    "collapsed": false,
    "ExecuteTime": {
     "start_time": "2023-04-19T15:19:30.082250Z",
     "end_time": "2023-04-19T15:19:30.659613Z"
    }
   }
  },
  {
   "cell_type": "markdown",
   "metadata": {},
   "source": [
    "## Task 3"
   ]
  },
  {
   "cell_type": "markdown",
   "metadata": {
    "ExecuteTime": {
     "start_time": "2023-04-04T09:22:26.289758Z",
     "end_time": "2023-04-04T09:22:26.462172Z"
    }
   },
   "source": [
    "Используя библиотеку seaborn, построй диаграмму \"Ящик с усами\" (Box plot) заработка по различным специальностям."
   ],
   "outputs": [],
   "execution_count": 221
  },
  {
   "cell_type": "code",
   "execution_count": null,
   "metadata": {
    "ExecuteTime": {
     "start_time": "2023-04-19T15:19:30.620265Z",
     "end_time": "2023-04-19T15:19:31.271509Z"
    }
   },
   "outputs": [],
   "source": [
    " avg_salary = {\n",
    "    '$0-999': 500,'1,000-1,999': 1500, '2,000-2,999': 2500, '3,000-3,999': 3500, '4,000-4,999': 4500, '5,000-7,499': 6250, '7,500-9,999': 8750, '10,000-14,999': 12500, '15,000-19,999': 17500, '20,000-24,999': 22500, '25,000-29,999': 27500, '30,000-39,999': 35000, '40,000-49,999': 45000, '50,000-59,999': 55000, '60,000-69,999': 65000, '70,000-79,999': 75000, '80,000-89,999': 85000, '90,000-99,999': 95000, '100,000-124,999': 112500, '125,000-149,999': 137500, '150,000-199,999': 175000, '200,000-249,999': 225000, '250,000-299,999': 275000, '300,000-499,999': 400000, '$500,000-999,999': 750000, '>$1,000,000': 1000000\n",
    "}\n",
    "data['Q29-NEW'] = data['Q29'].map(avg_salary) #Интеграция средних  в датафрейм\n",
    "profs = data[(data['Q23'] != 'Currently not employed') & (data['Q29-NEW'])]\n",
    "\n",
    "sns.set_theme(style = 'ticks')\n",
    "fig, ax = plt.subplots(figsize = (10,10))\n",
    "ax.tick_params('y', labelrotation=15)\n",
    "sns.boxplot(x = 'Q29-NEW', y = 'Q23', data = profs)\n",
    "ax.set_xlabel('Годовой доход в $')\n",
    "ax.set_ylabel('Специальность')\n",
    "# ax.set_xticks([0, 50000, 100000, 150000, 200000, 250000, 300000])\n",
    "plt.title('Годовой доход по специальности')\n",
    "ax.set_xlim(0, 300000)\n",
    "plt.show()"
   ]
  },
  {
   "cell_type": "markdown",
   "metadata": {
    "ExecuteTime": {
     "start_time": "2023-04-04T09:22:27.020485Z",
     "end_time": "2023-04-04T09:22:27.402657Z"
    }
   },
   "source": [
    "## Task 4\n",
    "Используя библиотеку plotly, построй столбцовую диаграмму (Bar plot) на распределение респондентов по возрасту по\n",
    "специальностям Data Administrator, Data Analyst, Data Engineer, Data Scientist, Engineer, MLops Engineer, \n",
    "Research Scientist, Software Engineer, Data Architect"
   ],
   "outputs": [],
   "execution_count": 227
  },
  {
   "cell_type": "code",
   "execution_count": null,
   "outputs": [],
   "source": [
    "import plotly.graph_objs as go\n",
    "from plotly.subplots import make_subplots\n",
    "import plotly.express as px\n",
    "import kaleido"
   ],
   "metadata": {
    "collapsed": false,
    "ExecuteTime": {
     "start_time": "2023-04-19T15:19:31.271302Z",
     "end_time": "2023-04-19T15:19:31.457459Z"
    }
   }
  },
  {
   "cell_type": "code",
   "execution_count": null,
   "metadata": {
    "ExecuteTime": {
     "start_time": "2023-04-19T15:19:31.465150Z",
     "end_time": "2023-04-19T15:19:32.213068Z"
    }
   },
   "outputs": [],
   "source": [
    "t4 = data[\n",
    "    ((data['Q23'] == 'Data Administrator') |\n",
    "    (data['Q23'] == 'Data Analyst (Business, Marketing, Financial, Quantitative, etc)') |\n",
    "    (data['Q23'] == 'Data Engineer') |\n",
    "    (data['Q23'] == 'Data Scientist') |\n",
    "    (data['Q23'] == 'Engineer (non-software)') |\n",
    "    (data['Q23'] == 'Machine Learning/ MLops Engineer') |\n",
    "    (data['Q23'] == 'Research Scientist') |\n",
    "    (data['Q23'] == 'Software Engineer') |\n",
    "    (data['Q23'] == 'Data Architect')) & data['Q2']\n",
    "]\n",
    "df_spec_1 = t4[['Q23', 'Q2']].value_counts().reset_index()\n",
    "df_spec_1.columns = ['Q23', 'Q2', 'value_counts']\n",
    "df_spec = df_spec_1.sort_values(by = 'Q2')\n",
    "\n",
    "df_pro = df_spec['Q23'].unique()\n",
    "df_pro[3] = 'Engineer'\n",
    "df_pro[4] = 'MLops Engineer'\n",
    "df_pro[5] = 'Data Analyst'\n",
    "\n",
    "formatted_values = df_pro.tolist()\n",
    "formatted_values = list(map(lambda x: f'<b><i>{x}</i></b>', formatted_values))\n",
    "\n",
    "fig = make_subplots(rows = 3, cols = 3, shared_xaxes = False, shared_yaxes = False, subplot_titles = formatted_values)\n",
    "\n",
    "colors = px.colors.qualitative.Pastel\n",
    "\n",
    "for i, q23 in enumerate(df_spec['Q23'].unique()):\n",
    "    set = df_spec[df_spec['Q23'] == q23]\n",
    "    row = i//3 +1\n",
    "    col = i%3 + 1\n",
    "    fig.add_trace(go.Bar(x = set['Q2'], y = set['value_counts'], name = q23, marker_color = colors[i]), row = row, col = col)\n",
    "\n",
    "fig.update_layout(height = 600, width = 1200, title_text = \"<i>Распределение возрастов по специальности</i>\")\n",
    "# fig.write_image(\"../misc/images/t4.svg\")\n",
    "fig.show()\n"
   ]
  },
  {
   "cell_type": "markdown",
   "metadata": {
    "ExecuteTime": {
     "start_time": "2023-04-03T15:17:56.323624Z",
     "end_time": "2023-04-03T15:17:56.357167Z"
    }
   },
   "source": [
    "## Task 5"
   ],
   "outputs": [
    {
     "data": {
      "text/plain": "                 country continent  year  lifeExp       pop     gdpPercap  \\\n11           Afghanistan      Asia  2007   43.828  31889923    974.580338   \n23               Albania    Europe  2007   76.423   3600523   5937.029526   \n35               Algeria    Africa  2007   72.301  33333216   6223.367465   \n47                Angola    Africa  2007   42.731  12420476   4797.231267   \n59             Argentina  Americas  2007   75.320  40301927  12779.379640   \n...                  ...       ...   ...      ...       ...           ...   \n1655             Vietnam      Asia  2007   74.249  85262356   2441.576404   \n1667  West Bank and Gaza      Asia  2007   73.422   4018332   3025.349798   \n1679         Yemen, Rep.      Asia  2007   62.698  22211743   2280.769906   \n1691              Zambia    Africa  2007   42.384  11746035   1271.211593   \n1703            Zimbabwe    Africa  2007   43.487  12311143    469.709298   \n\n     iso_alpha  iso_num  \n11         AFG        4  \n23         ALB        8  \n35         DZA       12  \n47         AGO       24  \n59         ARG       32  \n...        ...      ...  \n1655       VNM      704  \n1667       PSE      275  \n1679       YEM      887  \n1691       ZMB      894  \n1703       ZWE      716  \n\n[142 rows x 8 columns]",
      "text/html": "<div>\n<style scoped>\n    .dataframe tbody tr th:only-of-type {\n        vertical-align: middle;\n    }\n\n    .dataframe tbody tr th {\n        vertical-align: top;\n    }\n\n    .dataframe thead th {\n        text-align: right;\n    }\n</style>\n<table border=\"1\" class=\"dataframe\">\n  <thead>\n    <tr style=\"text-align: right;\">\n      <th></th>\n      <th>country</th>\n      <th>continent</th>\n      <th>year</th>\n      <th>lifeExp</th>\n      <th>pop</th>\n      <th>gdpPercap</th>\n      <th>iso_alpha</th>\n      <th>iso_num</th>\n    </tr>\n  </thead>\n  <tbody>\n    <tr>\n      <th>11</th>\n      <td>Afghanistan</td>\n      <td>Asia</td>\n      <td>2007</td>\n      <td>43.828</td>\n      <td>31889923</td>\n      <td>974.580338</td>\n      <td>AFG</td>\n      <td>4</td>\n    </tr>\n    <tr>\n      <th>23</th>\n      <td>Albania</td>\n      <td>Europe</td>\n      <td>2007</td>\n      <td>76.423</td>\n      <td>3600523</td>\n      <td>5937.029526</td>\n      <td>ALB</td>\n      <td>8</td>\n    </tr>\n    <tr>\n      <th>35</th>\n      <td>Algeria</td>\n      <td>Africa</td>\n      <td>2007</td>\n      <td>72.301</td>\n      <td>33333216</td>\n      <td>6223.367465</td>\n      <td>DZA</td>\n      <td>12</td>\n    </tr>\n    <tr>\n      <th>47</th>\n      <td>Angola</td>\n      <td>Africa</td>\n      <td>2007</td>\n      <td>42.731</td>\n      <td>12420476</td>\n      <td>4797.231267</td>\n      <td>AGO</td>\n      <td>24</td>\n    </tr>\n    <tr>\n      <th>59</th>\n      <td>Argentina</td>\n      <td>Americas</td>\n      <td>2007</td>\n      <td>75.320</td>\n      <td>40301927</td>\n      <td>12779.379640</td>\n      <td>ARG</td>\n      <td>32</td>\n    </tr>\n    <tr>\n      <th>...</th>\n      <td>...</td>\n      <td>...</td>\n      <td>...</td>\n      <td>...</td>\n      <td>...</td>\n      <td>...</td>\n      <td>...</td>\n      <td>...</td>\n    </tr>\n    <tr>\n      <th>1655</th>\n      <td>Vietnam</td>\n      <td>Asia</td>\n      <td>2007</td>\n      <td>74.249</td>\n      <td>85262356</td>\n      <td>2441.576404</td>\n      <td>VNM</td>\n      <td>704</td>\n    </tr>\n    <tr>\n      <th>1667</th>\n      <td>West Bank and Gaza</td>\n      <td>Asia</td>\n      <td>2007</td>\n      <td>73.422</td>\n      <td>4018332</td>\n      <td>3025.349798</td>\n      <td>PSE</td>\n      <td>275</td>\n    </tr>\n    <tr>\n      <th>1679</th>\n      <td>Yemen, Rep.</td>\n      <td>Asia</td>\n      <td>2007</td>\n      <td>62.698</td>\n      <td>22211743</td>\n      <td>2280.769906</td>\n      <td>YEM</td>\n      <td>887</td>\n    </tr>\n    <tr>\n      <th>1691</th>\n      <td>Zambia</td>\n      <td>Africa</td>\n      <td>2007</td>\n      <td>42.384</td>\n      <td>11746035</td>\n      <td>1271.211593</td>\n      <td>ZMB</td>\n      <td>894</td>\n    </tr>\n    <tr>\n      <th>1703</th>\n      <td>Zimbabwe</td>\n      <td>Africa</td>\n      <td>2007</td>\n      <td>43.487</td>\n      <td>12311143</td>\n      <td>469.709298</td>\n      <td>ZWE</td>\n      <td>716</td>\n    </tr>\n  </tbody>\n</table>\n<p>142 rows × 8 columns</p>\n</div>"
     },
     "execution_count": 158,
     "metadata": {},
     "output_type": "execute_result"
    }
   ],
   "execution_count": 158
  },
  {
   "cell_type": "markdown",
   "metadata": {
    "ExecuteTime": {
     "start_time": "2023-04-03T15:18:48.404563Z",
     "end_time": "2023-04-03T15:18:48.431745Z"
    }
   },
   "source": [
    "Используя библиотеку plotly, построй карту стран респондентов. В этом тебе поможет [plotly.choropleth](https://plotly.com/python/choropleth-maps/)"
   ],
   "outputs": [
    {
     "data": {
      "text/plain": "                                                   Q4  value_counts\n0                                               India          8792\n1                            United States of America          2920\n2                                               Other          1430\n3                                              Brazil           833\n4                                             Nigeria           731\n5                                            Pakistan           620\n6                                               Japan           556\n7                                               China           453\n8                                               Egypt           383\n9                                              Mexico           380\n10                                          Indonesia           376\n11                                             Turkey           345\n12                                             Russia           324\n13                                        South Korea           317\n14                                             France           262\n15  United Kingdom of Great Britain and Northern I...           258\n16                                              Spain           257\n17                                             Canada           257\n18                                           Colombia           256\n19                                         Bangladesh           251\n20                                             Taiwan           242\n21                                           Viet Nam           212\n22                                          Argentina           204\n23                                              Kenya           201\n24                                              Italy           182\n25                                            Morocco           177\n26                                          Australia           142\n27                                           Thailand           132\n28                                            Tunisia           125\n29                                               Peru           121\n30                       Iran, Islamic Republic of...           120\n31                                              Chile           115\n32                                             Poland           113\n33                                       South Africa           109\n34                                        Philippines           108\n35                                        Netherlands           108\n36                                              Ghana           107\n37                                             Israel           102\n38                                            Germany            99\n39                                           Ethiopia            98\n40                               United Arab Emirates            94\n41                                           Portugal            87\n42                                       Saudi Arabia            84\n43                                            Ukraine            79\n44                                          Sri Lanka            77\n45                                              Nepal            75\n46                                           Malaysia            74\n47                                          Singapore            68\n48                                           Cameroon            68\n49                                            Algeria            62\n50                                 Hong Kong (S.A.R.)            58\n51                                           Zimbabwe            54\n52                                            Ecuador            54\n53                                            Ireland            53\n54                                            Belgium            51\n55                                            Romania            50\n56                                     Czech Republic            49\n57              I do not wish to disclose my location            42",
      "text/html": "<div>\n<style scoped>\n    .dataframe tbody tr th:only-of-type {\n        vertical-align: middle;\n    }\n\n    .dataframe tbody tr th {\n        vertical-align: top;\n    }\n\n    .dataframe thead th {\n        text-align: right;\n    }\n</style>\n<table border=\"1\" class=\"dataframe\">\n  <thead>\n    <tr style=\"text-align: right;\">\n      <th></th>\n      <th>Q4</th>\n      <th>value_counts</th>\n    </tr>\n  </thead>\n  <tbody>\n    <tr>\n      <th>0</th>\n      <td>India</td>\n      <td>8792</td>\n    </tr>\n    <tr>\n      <th>1</th>\n      <td>United States of America</td>\n      <td>2920</td>\n    </tr>\n    <tr>\n      <th>2</th>\n      <td>Other</td>\n      <td>1430</td>\n    </tr>\n    <tr>\n      <th>3</th>\n      <td>Brazil</td>\n      <td>833</td>\n    </tr>\n    <tr>\n      <th>4</th>\n      <td>Nigeria</td>\n      <td>731</td>\n    </tr>\n    <tr>\n      <th>5</th>\n      <td>Pakistan</td>\n      <td>620</td>\n    </tr>\n    <tr>\n      <th>6</th>\n      <td>Japan</td>\n      <td>556</td>\n    </tr>\n    <tr>\n      <th>7</th>\n      <td>China</td>\n      <td>453</td>\n    </tr>\n    <tr>\n      <th>8</th>\n      <td>Egypt</td>\n      <td>383</td>\n    </tr>\n    <tr>\n      <th>9</th>\n      <td>Mexico</td>\n      <td>380</td>\n    </tr>\n    <tr>\n      <th>10</th>\n      <td>Indonesia</td>\n      <td>376</td>\n    </tr>\n    <tr>\n      <th>11</th>\n      <td>Turkey</td>\n      <td>345</td>\n    </tr>\n    <tr>\n      <th>12</th>\n      <td>Russia</td>\n      <td>324</td>\n    </tr>\n    <tr>\n      <th>13</th>\n      <td>South Korea</td>\n      <td>317</td>\n    </tr>\n    <tr>\n      <th>14</th>\n      <td>France</td>\n      <td>262</td>\n    </tr>\n    <tr>\n      <th>15</th>\n      <td>United Kingdom of Great Britain and Northern I...</td>\n      <td>258</td>\n    </tr>\n    <tr>\n      <th>16</th>\n      <td>Spain</td>\n      <td>257</td>\n    </tr>\n    <tr>\n      <th>17</th>\n      <td>Canada</td>\n      <td>257</td>\n    </tr>\n    <tr>\n      <th>18</th>\n      <td>Colombia</td>\n      <td>256</td>\n    </tr>\n    <tr>\n      <th>19</th>\n      <td>Bangladesh</td>\n      <td>251</td>\n    </tr>\n    <tr>\n      <th>20</th>\n      <td>Taiwan</td>\n      <td>242</td>\n    </tr>\n    <tr>\n      <th>21</th>\n      <td>Viet Nam</td>\n      <td>212</td>\n    </tr>\n    <tr>\n      <th>22</th>\n      <td>Argentina</td>\n      <td>204</td>\n    </tr>\n    <tr>\n      <th>23</th>\n      <td>Kenya</td>\n      <td>201</td>\n    </tr>\n    <tr>\n      <th>24</th>\n      <td>Italy</td>\n      <td>182</td>\n    </tr>\n    <tr>\n      <th>25</th>\n      <td>Morocco</td>\n      <td>177</td>\n    </tr>\n    <tr>\n      <th>26</th>\n      <td>Australia</td>\n      <td>142</td>\n    </tr>\n    <tr>\n      <th>27</th>\n      <td>Thailand</td>\n      <td>132</td>\n    </tr>\n    <tr>\n      <th>28</th>\n      <td>Tunisia</td>\n      <td>125</td>\n    </tr>\n    <tr>\n      <th>29</th>\n      <td>Peru</td>\n      <td>121</td>\n    </tr>\n    <tr>\n      <th>30</th>\n      <td>Iran, Islamic Republic of...</td>\n      <td>120</td>\n    </tr>\n    <tr>\n      <th>31</th>\n      <td>Chile</td>\n      <td>115</td>\n    </tr>\n    <tr>\n      <th>32</th>\n      <td>Poland</td>\n      <td>113</td>\n    </tr>\n    <tr>\n      <th>33</th>\n      <td>South Africa</td>\n      <td>109</td>\n    </tr>\n    <tr>\n      <th>34</th>\n      <td>Philippines</td>\n      <td>108</td>\n    </tr>\n    <tr>\n      <th>35</th>\n      <td>Netherlands</td>\n      <td>108</td>\n    </tr>\n    <tr>\n      <th>36</th>\n      <td>Ghana</td>\n      <td>107</td>\n    </tr>\n    <tr>\n      <th>37</th>\n      <td>Israel</td>\n      <td>102</td>\n    </tr>\n    <tr>\n      <th>38</th>\n      <td>Germany</td>\n      <td>99</td>\n    </tr>\n    <tr>\n      <th>39</th>\n      <td>Ethiopia</td>\n      <td>98</td>\n    </tr>\n    <tr>\n      <th>40</th>\n      <td>United Arab Emirates</td>\n      <td>94</td>\n    </tr>\n    <tr>\n      <th>41</th>\n      <td>Portugal</td>\n      <td>87</td>\n    </tr>\n    <tr>\n      <th>42</th>\n      <td>Saudi Arabia</td>\n      <td>84</td>\n    </tr>\n    <tr>\n      <th>43</th>\n      <td>Ukraine</td>\n      <td>79</td>\n    </tr>\n    <tr>\n      <th>44</th>\n      <td>Sri Lanka</td>\n      <td>77</td>\n    </tr>\n    <tr>\n      <th>45</th>\n      <td>Nepal</td>\n      <td>75</td>\n    </tr>\n    <tr>\n      <th>46</th>\n      <td>Malaysia</td>\n      <td>74</td>\n    </tr>\n    <tr>\n      <th>47</th>\n      <td>Singapore</td>\n      <td>68</td>\n    </tr>\n    <tr>\n      <th>48</th>\n      <td>Cameroon</td>\n      <td>68</td>\n    </tr>\n    <tr>\n      <th>49</th>\n      <td>Algeria</td>\n      <td>62</td>\n    </tr>\n    <tr>\n      <th>50</th>\n      <td>Hong Kong (S.A.R.)</td>\n      <td>58</td>\n    </tr>\n    <tr>\n      <th>51</th>\n      <td>Zimbabwe</td>\n      <td>54</td>\n    </tr>\n    <tr>\n      <th>52</th>\n      <td>Ecuador</td>\n      <td>54</td>\n    </tr>\n    <tr>\n      <th>53</th>\n      <td>Ireland</td>\n      <td>53</td>\n    </tr>\n    <tr>\n      <th>54</th>\n      <td>Belgium</td>\n      <td>51</td>\n    </tr>\n    <tr>\n      <th>55</th>\n      <td>Romania</td>\n      <td>50</td>\n    </tr>\n    <tr>\n      <th>56</th>\n      <td>Czech Republic</td>\n      <td>49</td>\n    </tr>\n    <tr>\n      <th>57</th>\n      <td>I do not wish to disclose my location</td>\n      <td>42</td>\n    </tr>\n  </tbody>\n</table>\n</div>"
     },
     "execution_count": 159,
     "metadata": {},
     "output_type": "execute_result"
    }
   ],
   "execution_count": 159
  },
  {
   "cell_type": "code",
   "execution_count": null,
   "outputs": [],
   "source": [
    "df_country = data['Q4'].value_counts().reset_index()\n",
    "df_country.columns = ['Q4','value_counts']\n",
    "df_t = px.data.gapminder().query(\"year == 2007\")\n",
    "fig = px.choropleth(df_country,  locations = 'Q4',\n",
    "                    color = 'value_counts',\n",
    "                    hover_name = 'Q4',\n",
    "                    locationmode='country names',\n",
    "                    range_color=[0,1000],\n",
    "                    title= 'Карта Мира')\n",
    "fig.update_layout(\n",
    "    coloraxis_colorbar = dict(\n",
    "        y = 0.5,\n",
    "        x = 0.72,\n",
    "        len = 1.74,\n",
    "        title = 'Количество респондентов',\n",
    "        ticks = 'outside',\n",
    "        ticklen = 10,\n",
    "        thickness = 25,\n",
    "        # tickcolor = 'white',\n",
    "        dtick = 200,\n",
    "        showticklabels = True\n",
    "    ),\n",
    "    title = dict(\n",
    "        y = 1,\n",
    "        x = 0.5\n",
    "    )\n",
    ")\n",
    "fig.show()"
   ],
   "metadata": {
    "collapsed": false,
    "ExecuteTime": {
     "start_time": "2023-04-19T15:19:32.222451Z",
     "end_time": "2023-04-19T15:19:32.261023Z"
    }
   }
  }
 ],
 "metadata": {
  "kernelspec": {
   "display_name": "Python 3 (ipykernel)",
   "language": "python",
   "name": "python3"
  },
  "language_info": {
   "codemirror_mode": {
    "name": "ipython",
    "version": 3
   },
   "file_extension": ".py",
   "mimetype": "text/x-python",
   "name": "python",
   "nbconvert_exporter": "python",
   "pygments_lexer": "ipython3",
   "version": "3.9.6"
  }
 },
 "nbformat": 4,
 "nbformat_minor": 4
}
